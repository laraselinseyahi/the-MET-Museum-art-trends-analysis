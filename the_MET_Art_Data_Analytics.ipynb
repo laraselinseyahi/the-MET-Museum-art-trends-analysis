{
  "cells": [
    {
      "cell_type": "markdown",
      "metadata": {
        "id": "U5JUMgc_gbHp"
      },
      "source": [
        "# **Art Analytics: Exploring the MET Dataset with SQL and BigQuery**\n",
        "\n"
      ]
    },
    {
      "cell_type": "markdown",
      "metadata": {
        "id": "EHDiv4GrhofN"
      },
      "source": [
        "## Author\n",
        "* Lara Selin Seyahi\n",
        "seyahi@stanford.edu"
      ]
    },
    {
      "cell_type": "markdown",
      "metadata": {
        "id": "Fc_clta9g3H5"
      },
      "source": [
        "## Data Exploration"
      ]
    },
    {
      "cell_type": "code",
      "execution_count": 1,
      "metadata": {
        "id": "iTYZZK-lhCV9"
      },
      "outputs": [],
      "source": [
        "# Run this cell to authenticate yourself to BigQuery\n",
        "from google.colab import auth\n",
        "auth.authenticate_user() # make sure to \"Select All\" when authenticating\n",
        "project_id = \"cs145-project-fall24\""
      ]
    },
    {
      "cell_type": "code",
      "execution_count": 2,
      "metadata": {
        "id": "uIY7-6-thFc-"
      },
      "outputs": [],
      "source": [
        "# Initialize BiqQuery client\n",
        "from google.cloud import bigquery\n",
        "client = bigquery.Client(project=project_id)"
      ]
    },
    {
      "cell_type": "code",
      "source": [
        "# libraries for data visualization\n",
        "import matplotlib.pyplot as plt\n",
        "import seaborn as sns\n",
        "import plotly.express as px"
      ],
      "metadata": {
        "id": "QYVFGUKLvELQ"
      },
      "execution_count": 3,
      "outputs": []
    },
    {
      "cell_type": "code",
      "source": [
        "# Query 1\n",
        "# Key question 1: What are the top 10 art departments with the most amount of artifacts?\n",
        "\n",
        "%%bigquery --project cs145-project-fall24\n",
        "SELECT DISTINCT department, COUNT(*) as total_works_of_art\n",
        "FROM `bigquery-public-data.the_met.objects`\n",
        "GROUP BY department\n",
        "ORDER BY total_works_of_art DESC\n",
        "LIMIT 20;"
      ],
      "metadata": {
        "colab": {
          "base_uri": "https://localhost:8080/"
        },
        "id": "SYUnK6AEq7OH",
        "outputId": "9b01a005-d13a-4e8f-f8ae-8eda78c03243"
      },
      "execution_count": 4,
      "outputs": [
        {
          "output_type": "stream",
          "name": "stderr",
          "text": [
            "\n",
            "ERROR:\n",
            " 403 POST https://bigquery.googleapis.com/bigquery/v2/projects/cs145-project-fall24/jobs?prettyPrint=false: Access Denied: Project cs145-project-fall24: User does not have bigquery.jobs.create permission in project cs145-project-fall24.\n",
            "\n",
            "Location: None\n",
            "Job ID: 25d848da-671e-42ed-859f-289cd5d87862\n",
            "\n"
          ]
        }
      ]
    },
    {
      "cell_type": "code",
      "source": [
        "%%bigquery departments_table --project cs145-project-fall24\n",
        "SELECT DISTINCT department, COUNT(*) as total_works_of_art\n",
        "FROM `bigquery-public-data.the_met.objects`\n",
        "GROUP BY department\n",
        "ORDER BY total_works_of_art DESC\n",
        "LIMIT 10;"
      ],
      "metadata": {
        "colab": {
          "base_uri": "https://localhost:8080/"
        },
        "id": "9xTgYlL9tjq7",
        "outputId": "728cd6ba-6173-41e9-d268-469d23f5c796"
      },
      "execution_count": null,
      "outputs": [
        {
          "output_type": "stream",
          "name": "stderr",
          "text": [
            "\n",
            "ERROR:\n",
            " 403 POST https://bigquery.googleapis.com/bigquery/v2/projects/cs145-project-fall24/jobs?prettyPrint=false: Access Denied: Project cs145-project-fall24: User does not have bigquery.jobs.create permission in project cs145-project-fall24.\n",
            "\n",
            "Location: None\n",
            "Job ID: 74ec6f9a-51f0-4977-85f4-6969aa30050f\n",
            "\n"
          ]
        }
      ]
    },
    {
      "cell_type": "code",
      "source": [
        "# Key question 1: Data Visualization\n",
        "sns.barplot(x=departments_table.department, y=departments_table.total_works_of_art)\n",
        "plt.xlabel('Department')\n",
        "plt.ylabel('Total Works of Art')\n",
        "plt.title('Total Works of Art in Top 10 Departments')\n",
        "plt.xticks(rotation=45, ha='right')  # ha='right' ensures labels are aligned to the right\n",
        "plt.grid(axis='y', linestyle='--', alpha=0.7)  # Customize line style and transparency"
      ],
      "metadata": {
        "colab": {
          "base_uri": "https://localhost:8080/",
          "height": 216
        },
        "id": "JWlB1jXMwCZu",
        "outputId": "217758ea-e971-4b8b-bbd9-7d5cae51f15d"
      },
      "execution_count": null,
      "outputs": [
        {
          "output_type": "error",
          "ename": "AttributeError",
          "evalue": "'QueryJob' object has no attribute 'department'",
          "traceback": [
            "\u001b[0;31m---------------------------------------------------------------------------\u001b[0m",
            "\u001b[0;31mAttributeError\u001b[0m                            Traceback (most recent call last)",
            "\u001b[0;32m/tmp/ipython-input-2608230949.py\u001b[0m in \u001b[0;36m<cell line: 0>\u001b[0;34m()\u001b[0m\n\u001b[1;32m      1\u001b[0m \u001b[0;31m# Key question 1: Data Visualization\u001b[0m\u001b[0;34m\u001b[0m\u001b[0;34m\u001b[0m\u001b[0m\n\u001b[0;32m----> 2\u001b[0;31m \u001b[0msns\u001b[0m\u001b[0;34m.\u001b[0m\u001b[0mbarplot\u001b[0m\u001b[0;34m(\u001b[0m\u001b[0mx\u001b[0m\u001b[0;34m=\u001b[0m\u001b[0mdepartments_table\u001b[0m\u001b[0;34m.\u001b[0m\u001b[0mdepartment\u001b[0m\u001b[0;34m,\u001b[0m \u001b[0my\u001b[0m\u001b[0;34m=\u001b[0m\u001b[0mdepartments_table\u001b[0m\u001b[0;34m.\u001b[0m\u001b[0mtotal_works_of_art\u001b[0m\u001b[0;34m)\u001b[0m\u001b[0;34m\u001b[0m\u001b[0;34m\u001b[0m\u001b[0m\n\u001b[0m\u001b[1;32m      3\u001b[0m \u001b[0mplt\u001b[0m\u001b[0;34m.\u001b[0m\u001b[0mxlabel\u001b[0m\u001b[0;34m(\u001b[0m\u001b[0;34m'Department'\u001b[0m\u001b[0;34m)\u001b[0m\u001b[0;34m\u001b[0m\u001b[0;34m\u001b[0m\u001b[0m\n\u001b[1;32m      4\u001b[0m \u001b[0mplt\u001b[0m\u001b[0;34m.\u001b[0m\u001b[0mylabel\u001b[0m\u001b[0;34m(\u001b[0m\u001b[0;34m'Total Works of Art'\u001b[0m\u001b[0;34m)\u001b[0m\u001b[0;34m\u001b[0m\u001b[0;34m\u001b[0m\u001b[0m\n\u001b[1;32m      5\u001b[0m \u001b[0mplt\u001b[0m\u001b[0;34m.\u001b[0m\u001b[0mtitle\u001b[0m\u001b[0;34m(\u001b[0m\u001b[0;34m'Total Works of Art in Top 10 Departments'\u001b[0m\u001b[0;34m)\u001b[0m\u001b[0;34m\u001b[0m\u001b[0;34m\u001b[0m\u001b[0m\n",
            "\u001b[0;31mAttributeError\u001b[0m: 'QueryJob' object has no attribute 'department'"
          ]
        }
      ]
    },
    {
      "cell_type": "code",
      "source": [
        "%%bigquery --project cs145-project-fall24\n",
        "# Query 2\n",
        "# Key question 2: What are the top labels (art object type) asscociated with each department? What's the percentage ratio of the top label to all labels within each department?\n",
        "\n",
        "# CTE that joins the api data and object tables together\n",
        "# ranks the artistic representation type by the number they exist in within each department\n",
        "WITH\n",
        "APIdata AS (\n",
        "  SELECT label.description as representation, object_id\n",
        "  # labelAnnotations is a nested structure, UNNEST function flattens the array and gives separate rows for each of its elements\n",
        "  FROM `bigquery-public-data.the_met.vision_api_data`, UNNEST(labelAnnotations) as label),\n",
        "  # CTE that counts how often each artistic representation appears in each department and order them by count\n",
        "RepresentationsInDepartments AS(\n",
        "  SELECT department, representation, COUNT(*) as count, ROW_NUMBER() OVER (PARTITION BY department ORDER BY COUNT(*) DESC) as rank\n",
        "  FROM `bigquery-public-data.the_met.objects` as objects\n",
        "  JOIN APIdata\n",
        "  ON APIdata.object_id = objects.object_id\n",
        "  WHERE department is not NULL and representation != 'art' # removing art shows the mediums\n",
        "  GROUP BY department, representation\n",
        "),\n",
        "# CTE for counting the total number of labels associated with each department, which will be used in the ratio calculation of label per department\n",
        "TotalCounts AS(\n",
        "  SELECT department, representation, count, SUM(count) OVER (PARTITION BY department) as total_count_per_dep, rank\n",
        "  FROM RepresentationsInDepartments\n",
        "  GROUP BY department, representation, count, rank\n",
        ")\n",
        "# selecting the top  artistic representation type per department\n",
        "SELECT department, representation, (count / total_count_per_dep) * 100 as representation_ratio_per_department\n",
        "FROM TotalCounts\n",
        "WHERE rank = 1\n",
        "ORDER BY count desc;\n"
      ],
      "metadata": {
        "id": "QtgvHI94F3YK"
      },
      "execution_count": null,
      "outputs": []
    },
    {
      "cell_type": "code",
      "source": [
        "%%bigquery --project cs145-project-fall24\n",
        "\n",
        "# Query 3\n",
        "# Key Question 3: Which departments are the most similar in terms of the art mediums they create?\n",
        "\n",
        "# CTE for creating a table for that includes all department and art medium pairs\n",
        "With MediumsAndDepartments AS(\n",
        "  SELECT department, label.description as medium\n",
        "  FROM `bigquery-public-data.the_met.vision_api_data` as api_data, UNNEST(labelAnnotations) as label\n",
        "  JOIN `bigquery-public-data.the_met.objects` as objects\n",
        "  # joining them on the object id\n",
        "  ON objects.object_id = api_data.object_id\n",
        "  WHERE medium is not NULL and department is not NULL\n",
        "  GROUP BY department, medium\n",
        ")\n",
        "\n",
        "# calculating similarity between departments in terms of the number of overlapping mediums that they have\n",
        "SELECT table1.department as department1, table2.department as department2, COUNT(*) as MatchingMediums\n",
        "FROM MediumsAndDepartments as table1\n",
        "JOIN MediumsAndDepartments as table2\n",
        "# matching the mediums, and putting the first table first to prevent duplicates\n",
        "ON table1.medium = table2.medium and table1.department < table2.department\n",
        "GROUP BY table1.department, table2.department\n",
        "ORDER BY MatchingMediums DESC\n",
        "LIMIT 20;\n"
      ],
      "metadata": {
        "id": "6AbiIUbqRpRB"
      },
      "execution_count": null,
      "outputs": []
    },
    {
      "cell_type": "code",
      "source": [
        "%%bigquery --project cs145-project-fall24\n",
        "\n",
        "# Query 4\n",
        "# Key question 4: \"How do Wikipedia page visits in the first half of 2024 related to the top 10 art departments reflect public interest in specific artworks or cultural topics?\"\n",
        "SELECT\n",
        "    # conditional expression\n",
        "    CASE\n",
        "        # REGEXP_CONTAINS function checks if the wiki.title matches with a regular expression for each department name,\n",
        "        # if so, assigned it to the corresponding department name\n",
        "        WHEN REGEXP_CONTAINS(wiki.title, r'Drawings_and_Prints') THEN 'Drawings and Prints'\n",
        "        WHEN REGEXP_CONTAINS(wiki.title, r'European_Sculpture_and_Decorative_Arts') THEN 'European Sculpture and Decorative Arts'\n",
        "        WHEN REGEXP_CONTAINS(wiki.title, r'Asian_Art') THEN 'Asian Art'\n",
        "        WHEN REGEXP_CONTAINS(wiki.title, r'Greek_and_Roman_Art') THEN 'Greek and Roman Art'\n",
        "        WHEN REGEXP_CONTAINS(wiki.title, r'Egyptian_Art') THEN 'Egyptian Art'\n",
        "        WHEN REGEXP_CONTAINS(wiki.title, r'Islamic_Art') THEN 'Islamic Art'\n",
        "        WHEN REGEXP_CONTAINS(wiki.title, r'American_Decorative_Arts') THEN 'American Decorative Arts'\n",
        "        WHEN REGEXP_CONTAINS(wiki.title, r'Costume_Institute') THEN 'Costume Institute'\n",
        "        WHEN REGEXP_CONTAINS(wiki.title, r'Medieval_Art') THEN 'Medieval Art'\n",
        "        WHEN REGEXP_CONTAINS(wiki.title, r'Photographs') THEN 'Photographs'\n",
        "    END AS department_label, # The corresponding department label for the title\n",
        "    SUM(wiki.views) AS total_pageviews\n",
        "FROM\n",
        "    `bigquery-public-data.wikipedia.pageviews_2024` AS wiki\n",
        "WHERE\n",
        "    REGEXP_CONTAINS(wiki.title, r'(Drawings_and_Prints|European_Sculpture_and_Decorative_Arts|Asian_Art|Greek_and_Roman_Art|Egyptian_Art|Islamic_Art|American_Decorative_Arts|Costume_Institute|Medieval_Art|Photographs)')\n",
        "    AND wiki.datehour >= '2024-01-01'  # start date\n",
        "    AND wiki.datehour < '2024-06-01'  # end date\n",
        "GROUP BY\n",
        "    department_label\n",
        "ORDER BY\n",
        "    total_pageviews DESC;\n"
      ],
      "metadata": {
        "id": "GRQO77jVgq1t"
      },
      "execution_count": null,
      "outputs": []
    },
    {
      "cell_type": "code",
      "source": [
        "%%bigquery --project cs145-project-fall24\n",
        "\n",
        "# Query 5\n",
        "# Supplementary Question 1: What is the most represents period and culture in each department?\n",
        "\n",
        "SELECT department, period, culture, total_works\n",
        "# subquery for creating a table where periods and cultures within each department are ranked by the number of appreance\n",
        "FROM (\n",
        "  SELECT department, period, culture, COUNT(*) as total_works, RANK() OVER (PARTITION BY department ORDER BY COUNT(*) DESC) as rank\n",
        "  FROM `bigquery-public-data.the_met.objects`\n",
        "  WHERE department is not NULL\n",
        "  GROUP BY department, period, culture\n",
        ") AS all_works\n",
        "# selecting the top period and culture for each department\n",
        "WHERE rank = 1;\n",
        "\n"
      ],
      "metadata": {
        "id": "yehCmISAuLH4"
      },
      "execution_count": null,
      "outputs": []
    },
    {
      "cell_type": "code",
      "source": [
        "%%bigquery --project cs145-project-fall24\n",
        "\n",
        "# Query 6\n",
        "# Supplementary question 2: What is the most common object type in each department? What percentage of the department's total does this object type represent?\n",
        "# CTE for counting the total number of objects in each department and ranking the objects by the number they exist in, in each department\n",
        "WITH RankedObjects AS (\n",
        "  SELECT department, object_name, COUNT(*) as total_works, RANK() OVER (PARTITION BY department ORDER BY COUNT(*) DESC) AS rank\n",
        "  FROM `bigquery-public-data.the_met.objects`\n",
        "  WHERE object_name is not NULL\n",
        "  GROUP BY department, object_name\n",
        "),\n",
        "# CTE for creating ratios of object count to total object count in each department\n",
        "RatioOfRankedObjects AS (\n",
        "  SELECT department, object_name, total_works, rank, SUM(total_works) OVER (PARTITION BY department) AS total_works_department\n",
        "  FROM RankedObjects\n",
        ")\n",
        "\n",
        "# selecting the object that appears the most in each department,\n",
        "# and reporting the count of the object per department, total object count in the department, and what percent of the department is composed of that object\n",
        "SELECT department, object_name, total_works, total_works_department, (total_works / total_works_department) * 100 as object_per_department_percentage\n",
        "FROM RatioOfRankedObjects\n",
        "WHERE rank = 1\n",
        "ORDER BY object_per_department_percentage desc;\n"
      ],
      "metadata": {
        "id": "4zcxV4VQ3lpm"
      },
      "execution_count": null,
      "outputs": []
    },
    {
      "cell_type": "code",
      "source": [
        "%%bigquery --project cs145-project-fall24\n",
        "\n",
        "# Query 7\n",
        "# Supplementary question 3: Who are the artists with the highest number of works in each department?\n",
        "\n",
        "# CTE for assigning a row number for each artist within each department based on the number of objects they have\n",
        "WITH RankedArtists AS (\n",
        "  SELECT artist_display_name, department, COUNT(*) as num_works, ROW_NUMBER() OVER (PARTITION BY department ORDER BY COUNT(*) DESC) AS rank\n",
        "  FROM `bigquery-public-data.the_met.objects`\n",
        "  WHERE artist_display_name is not NULL\n",
        "  GROUP BY department, artist_display_name\n",
        ")\n",
        "SELECT department, artist_display_name, num_works\n",
        "FROM RankedArtists\n",
        "WHERE rank = 1\n",
        "ORDER BY num_works desc;\n"
      ],
      "metadata": {
        "id": "Mmamid-2BQA2"
      },
      "execution_count": null,
      "outputs": []
    },
    {
      "cell_type": "code",
      "source": [
        "%%bigquery --project cs145-project-fall24\n",
        "#Query 8\n",
        "# Anomalies in the dataset question: How do mediums used change across artists from different nationalities?\n",
        "\n",
        "# The results of this query reveal a limitation:\n",
        "# the labels in artist_nationalities in the table could be more specific and unique\n",
        "\n",
        "WITH\n",
        "# CTE for api data that only including label and object id\n",
        "APIdata AS (\n",
        "  SELECT label.description as label, object_id\n",
        "  FROM `bigquery-public-data.the_met.vision_api_data`, UNNEST(labelAnnotations) label),\n",
        "\n",
        "# CTE for object data that only including artist nationality and object id\n",
        "ObjectInfo AS (\n",
        "  SELECT artist_nationality, object_id\n",
        "  FROM `bigquery-public-data.the_met.objects`\n",
        "  WHERE artist_nationality is not NULL\n",
        ")\n",
        "\n",
        "# table where APIdata and ObjectInfo are joined ob object id,\n",
        "# labels within each nationality is assigned row numbers based on the number of labels\n",
        "SELECT artist_nationality, label, label_count\n",
        "FROM (\n",
        "  SELECT  artist_nationality, label, COUNT(*) as label_count, ROW_NUMBER() OVER(PARTITION BY artist_nationality ORDER BY COUNT(*) DESC) as rank\n",
        "  FROM APIdata JOIN ObjectInfo\n",
        "  ON APIdata.object_id = ObjectInfo.object_id\n",
        "  GROUP BY artist_nationality, label\n",
        ")\n",
        "WHERE rank = 1\n",
        "ORDER BY artist_nationality;\n",
        "\n"
      ],
      "metadata": {
        "id": "bnGgSZUIQ1mj"
      },
      "execution_count": null,
      "outputs": []
    },
    {
      "cell_type": "code",
      "source": [
        "%%bigquery --project cs145-project-fall24\n",
        "# Query 9\n",
        "# Significant features in the dataset question:\n",
        "# For which artworks, is the \"Suprise Likelihood Label\" under face annotations exists?\n",
        "\n",
        "# selecting rows where label for surprised face is labelled very likely\n",
        "SELECT surpriseLikelihood, title, department\n",
        "# faceAnnotations is a nested structure, unnest makes elements of it accessible by flattening the array into rows\n",
        "FROM  `bigquery-public-data.the_met.vision_api_data` as api_data, UNNEST(faceAnnotations) as face\n",
        "JOIN `bigquery-public-data.the_met.objects` as objects\n",
        "ON objects.object_id = api_data.object_id\n",
        "# select rows where face surprise likelihood is vey likely\n",
        "WHERE face.surpriseLikelihood = \"VERY_LIKELY\";\n",
        "\n",
        "\n"
      ],
      "metadata": {
        "id": "xK9LpfnldFJ0"
      },
      "execution_count": null,
      "outputs": []
    },
    {
      "cell_type": "code",
      "source": [
        "%%bigquery --project cs145-project-fall24\n",
        "# Query 10\n",
        "# Exploratory question: Which landmarks do photographers take photographs of are classified with the highest accuracy?\n",
        "\n",
        "# CTE for selecting photographers in the Photography department and the object_ids\n",
        "WITH EuropeanAndAmericanArtists AS (\n",
        "  SELECT artist_display_name as photographer, object_id\n",
        "  FROM `bigquery-public-data.the_met.objects`\n",
        "  WHERE department = 'Photographs' and artist_display_name is not NULL\n",
        "  GROUP BY artist_display_name, object_id\n",
        ")\n",
        "\n",
        "# showing the photographer, the location they took a picture of,\n",
        "# ordered by the average score for classification accuracy for the location\n",
        "SELECT photographer, locations.description as locations, AVG(locations.score) as avgScore\n",
        "FROM `bigquery-public-data.the_met.vision_api_data` as api_data, UNNEST(landmarkAnnotations) as locations\n",
        "JOIN EuropeanAndAmericanArtists\n",
        "ON EuropeanAndAmericanArtists.object_id = api_data.object_id\n",
        "GROUP BY photographer, locations\n",
        "ORDER BY avgScore desc\n",
        "LIMIT 10;\n",
        "\n"
      ],
      "metadata": {
        "id": "IvqB94uvhWxL"
      },
      "execution_count": null,
      "outputs": []
    },
    {
      "cell_type": "code",
      "source": [
        "%%bigquery --project cs145-project-fall24\n",
        "# Query 11\n",
        "# Exploratory question: Who are the top 5 artists in the American Paintings and Sculpture and in European Paintings departments with the highest number of works?\n",
        "\n",
        "SELECT artist_display_name, department, rank, number_of_works\n",
        "FROM (\n",
        "  SELECT artist_display_name, department, count(*) as number_of_works, RANK() OVER(PARTITION BY department ORDER BY COUNT(*) desc) as rank\n",
        "  FROM `bigquery-public-data.the_met.objects`\n",
        "  WHERE department in ('American Paintings and Sculpture', 'European Paintings') and artist_display_name is not NULL\n",
        "  GROUP BY artist_display_name, department\n",
        ")\n",
        "WHERE rank <= 5;"
      ],
      "metadata": {
        "id": "3B7xgFX8ry8_"
      },
      "execution_count": null,
      "outputs": []
    },
    {
      "cell_type": "code",
      "source": [
        "%%bigquery --project cs145-project-fall24\n",
        "# Query 12\n",
        "# Trends question: What is the popularity of the most represented American artists in wikipedia searches in the first half of 2024?\n",
        "# Is it the same ordering as the query above?\n",
        "\n",
        "SELECT  COUNT(*) AS total_views, title\n",
        "FROM\n",
        "`bigquery-public-data.wikipedia.pageviews_2024`\n",
        "WHERE\n",
        "title IN ('John_Singer_Sargent', 'Thomas_Sully', 'Albert_Bierstadt', 'William_Trost_Richards','Mary_Newbold_Sargent')  -- Use OR logic\n",
        "AND datehour >= '2024-01-01'\n",
        "AND datehour < '2024-06-01'\n",
        "GROUP BY title\n",
        "ORDER BY total_views desc;\n",
        "\n"
      ],
      "metadata": {
        "id": "TZt85P19OYEA"
      },
      "execution_count": null,
      "outputs": []
    },
    {
      "cell_type": "code",
      "source": [
        "%%bigquery --project cs145-project-fall24\n",
        "# Query 13\n",
        "# Exploratory question: What landmarks do prominent european painters in the European Paintings department draw?\n",
        "\n",
        "# CTE for artist names and object ids only for the top artists in the European Paintings department\n",
        "WITH EuropeanPaintings AS (\n",
        " SELECT artist_display_name, object_id\n",
        " FROM `bigquery-public-data.the_met.objects`\n",
        " WHERE artist_display_name in ('Edgar Degas', 'Claude Monet', 'Camille Corot', 'Gustave Courbet'))\n",
        "SELECT artist_display_name, landmark.description as places,\n",
        "FROM  `bigquery-public-data.the_met.vision_api_data` as api_data, UNNEST(landmarkAnnotations) as landmark\n",
        "JOIN EuropeanPaintings\n",
        "ON api_data.object_id = EuropeanPaintings.object_id;"
      ],
      "metadata": {
        "id": "7bz6dBOBDs08"
      },
      "execution_count": null,
      "outputs": []
    },
    {
      "cell_type": "code",
      "source": [
        "%%bigquery --project cs145-project-fall24\n",
        "# Query 14\n",
        "# Significant features in the dataset question\n",
        "# What landmarks have the highest accuracy in detection and what departments and artists do they belong to?\n",
        "\n",
        "SELECT landmark.score, landmark.description, department, artist_display_name\n",
        "FROM `bigquery-public-data.the_met.vision_api_data` as api_data, UNNEST(landmarkAnnotations) as landmark\n",
        "JOIN `bigquery-public-data.the_met.objects` as objects\n",
        "ON objects.object_id = api_data.object_id\n",
        "ORDER BY landmark.score DESC\n",
        "LIMIT 20;"
      ],
      "metadata": {
        "id": "MWy0aCZGPu6P"
      },
      "execution_count": null,
      "outputs": []
    },
    {
      "cell_type": "markdown",
      "metadata": {
        "id": "Dg7Lhqi_yDcy"
      },
      "source": [
        "## Conclusion"
      ]
    },
    {
      "cell_type": "markdown",
      "metadata": {
        "id": "YmVpTigjyHMY"
      },
      "source": [
        "---\n",
        "\n",
        "1. Summary of what was learned from the data (5 points).\n",
        "\n",
        "The data revealed that important highlights about the Metropolitan Museum of Art. The departments with the highest counts of artifacts are Drawings and Prints with 43488 objects, European Sculpture and Decorative Arts with 30611 objects, Asian Art with 29844 objects, Greek and Roman Art with\t12518 objects, and Egyptian Art with\t12278 objects.\n",
        "\n",
        "While sketches appear the most in European Sculpture and Decorative Arts, patterns appear the most in European Sculpture and Decorative Arts and Asian Art, followed by clothing in Costume Institute, ceramic in Greek and Roman Art, photograph in Photographs, and sculpture\tin Egyptian Art.\n",
        "\n",
        "The department pairs that are the most similar in terms of the number of art mediums they both create are Asian Art\tand European Sculpture and Decorative Arts departments with 630  mediums shared between them, followed by Asian Art\tand Egyptian Art with\t534 mediums, followed by American Decorative Arts\tand European Sculpture and Decorative Arts\twith 502 medium, followed by Egyptian Art\tand European Sculpture and Decorative Arts\tdepartments with 499 mediums, and Asian Art\tand Islamic Art departments with 494 mediums.\n",
        "\n",
        "In the wikipedia searches from the first half of 2024, when the number of searches of titles relevant to the departments are investigated. In the titles searched for, Photographs appears the most, followed by Islamic Art, and Asian Art. The ordering of ranking of searches is different from the ranking of the departments in terms of object numbers. Thus, public interest as measured by Wikipedia page views doesn't perfectly align with object counts.\n",
        "\n",
        "In terms of cultural representation in the number of objects, Asian Art department mostly has artifacts on Japanese culture from the Edo period, \"European Sculpture and Decorative Arts\" department has French, Medieval Art has Coptic, Ancient Near Eastern Art has Sasanian, Costume Institute\thas\tAmerican, Arts of Africa, Oceania, and the Americas has Mexican cultural elements, and Egyptian Art contains the most artifacts on the New Kingdom period.\n",
        "\n",
        "The data also reveals the highest appearing object types and artists within each department. For example, paintings appear the most in the European Paintings department, with Edgar Degas being the artist with the most paintings.\n",
        "\n",
        "2. Discussion of conclusions and limitations (3 points).\n",
        "\n",
        "The analysis reveals that while some departments hold more artifacts, public interest can diverges from sheer object count, suggesting that other factors could be influencing interest towards art, beyond the representation of different departments in The Met. Departments sharing mediums could potentially highlight historical or stylistic connections between different cultural collections. Additionally, notable artists and object types within departments offer insights into key figures and themes on art through the ages. This understanding could inform future curation, educational programs, and strategies for increasing engagement with underrepresented collections.\n",
        "\n",
        "\n",
        "A limitation is that the Wikipedia search data reflects only online interest, which may not reflect public's general interest in the arts or with museum visits. Additionally, the analysis relies on the metadata in the Met dataset, which varies in terms of consistency across departments, potentially impacting comparisons.  \n",
        "\n",
        "3. Clear reflection on future explorations if more time were\n",
        "available (2 points).  \n",
        "\n",
        "Future explorations could include a deeper analysis of public interest through analysing social media data for museum social media accounts or museum visitor statistics. This could provide a more holistic understanding of what drives engagement with different art departments. Furthermore, this analysis could be done through long time periods comparing interest in different time points, which can reveal how specific events in time influence interest in the arts. I would like to do more statistical analysis to reveal insights on specific artists, cultural periods, or mediums within departments.\n",
        "\n",
        "Source for UNNEST: https://cloud.google.com/bigquery/docs/arrays#querying_array-type_fields_in_a_struct\n",
        "\n",
        "Source for REGEXP_CONTAINS: https://cloud.google.com/bigquery/docs/reference/standard-sql/string_functions#regexp_contains\n",
        "\n",
        "---\n"
      ]
    }
  ],
  "metadata": {
    "colab": {
      "provenance": []
    },
    "kernelspec": {
      "display_name": "Python 3",
      "name": "python3"
    }
  },
  "nbformat": 4,
  "nbformat_minor": 0
}